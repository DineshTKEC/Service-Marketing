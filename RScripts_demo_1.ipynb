{
  "nbformat": 4,
  "nbformat_minor": 0,
  "metadata": {
    "colab": {
      "provenance": [],
      "include_colab_link": true
    },
    "kernelspec": {
      "name": "ir",
      "display_name": "R"
    },
    "language_info": {
      "name": "R"
    }
  },
  "cells": [
    {
      "cell_type": "markdown",
      "metadata": {
        "id": "view-in-github",
        "colab_type": "text"
      },
      "source": [
        "<a href=\"https://colab.research.google.com/github/DineshTKEC/Service-Marketing/blob/main/RScripts_demo_1.ipynb\" target=\"_parent\"><img src=\"https://colab.research.google.com/assets/colab-badge.svg\" alt=\"Open In Colab\"/></a>"
      ]
    },
    {
      "cell_type": "code",
      "source": [
        "print(\"Welcome To Marketing Analytics  in Business Analytics\")"
      ],
      "metadata": {
        "colab": {
          "base_uri": "https://localhost:8080/"
        },
        "id": "p3mN6Z5VFE36",
        "outputId": "b961b523-e5f3-4de5-95ad-ee392e32963a"
      },
      "execution_count": null,
      "outputs": [
        {
          "output_type": "stream",
          "name": "stdout",
          "text": [
            "[1] \"Welcome To Marketing Analytics  in Business Analytics\"\n"
          ]
        }
      ]
    },
    {
      "cell_type": "code",
      "source": [
        "print(\"print command displays content which is enclosed in print :\") hr"
      ],
      "metadata": {
        "colab": {
          "base_uri": "https://localhost:8080/"
        },
        "id": "bJoT4gJTFTrZ",
        "outputId": "b7d6aa59-b059-472c-de43-d0357a267172"
      },
      "execution_count": null,
      "outputs": [
        {
          "output_type": "stream",
          "name": "stdout",
          "text": [
            "[1] \"print command displays content which is enclosed in print :\"\n"
          ]
        }
      ]
    },
    {
      "cell_type": "code",
      "source": [
        "print(\"Arithmetic operations\")"
      ],
      "metadata": {
        "colab": {
          "base_uri": "https://localhost:8080/"
        },
        "id": "J0D18ZhyFu6j",
        "outputId": "400e4824-6368-4792-f834-8aac2a7a7e00"
      },
      "execution_count": null,
      "outputs": [
        {
          "output_type": "stream",
          "name": "stdout",
          "text": [
            "[1] \"Arithmetic operations\"\n"
          ]
        }
      ]
    },
    {
      "cell_type": "code",
      "source": [
        "a<-10;\n",
        "print( \"value assigned to variable a\",print(a));"
      ],
      "metadata": {
        "colab": {
          "base_uri": "https://localhost:8080/"
        },
        "id": "vEDb0oYeF6sS",
        "outputId": "cbb71efd-003a-4323-a59a-abf45825e5ba"
      },
      "execution_count": null,
      "outputs": [
        {
          "output_type": "stream",
          "name": "stdout",
          "text": [
            "[1] 10\n",
            "[1] \"value assigned to variable a\"\n"
          ]
        }
      ]
    },
    {
      "cell_type": "code",
      "source": [
        "a<-10; b<-8;\n",
        "print(a+b)"
      ],
      "metadata": {
        "colab": {
          "base_uri": "https://localhost:8080/"
        },
        "id": "r--mfuhsICdD",
        "outputId": "2c1e22a6-654a-46ea-8ee9-29bd1ed3d4dc"
      },
      "execution_count": null,
      "outputs": [
        {
          "output_type": "stream",
          "name": "stdout",
          "text": [
            "[1] 18\n"
          ]
        }
      ]
    },
    {
      "cell_type": "code",
      "source": [
        "print(a-b)"
      ],
      "metadata": {
        "colab": {
          "base_uri": "https://localhost:8080/"
        },
        "id": "Yf5wCBDCIPKU",
        "outputId": "b7009c95-e7a0-4109-9bb3-947652cc43ee"
      },
      "execution_count": null,
      "outputs": [
        {
          "output_type": "stream",
          "name": "stdout",
          "text": [
            "[1] 2\n"
          ]
        }
      ]
    },
    {
      "cell_type": "code",
      "source": [
        "print(a*b)"
      ],
      "metadata": {
        "colab": {
          "base_uri": "https://localhost:8080/"
        },
        "id": "JRH-ZXfvIUNT",
        "outputId": "ad0acb4a-8463-4079-9b35-93aaadf5d34e"
      },
      "execution_count": null,
      "outputs": [
        {
          "output_type": "stream",
          "name": "stdout",
          "text": [
            "[1] 80\n"
          ]
        }
      ]
    },
    {
      "cell_type": "code",
      "source": [
        "print(a/b)"
      ],
      "metadata": {
        "colab": {
          "base_uri": "https://localhost:8080/"
        },
        "id": "2KJhQ47UIb_J",
        "outputId": "0a9d5994-a451-400d-ec4c-dfe1108d5e8f"
      },
      "execution_count": null,
      "outputs": [
        {
          "output_type": "stream",
          "name": "stdout",
          "text": [
            "[1] 1.25\n"
          ]
        }
      ]
    },
    {
      "cell_type": "code",
      "source": [
        "print(a%%b)"
      ],
      "metadata": {
        "colab": {
          "base_uri": "https://localhost:8080/"
        },
        "id": "sn3Q0Q6LIhG-",
        "outputId": "4f023e0e-75dd-4e4e-eb03-6e59de787c2a"
      },
      "execution_count": null,
      "outputs": [
        {
          "output_type": "stream",
          "name": "stdout",
          "text": [
            "[1] 2\n"
          ]
        }
      ]
    },
    {
      "cell_type": "code",
      "source": [
        "print(a**4)"
      ],
      "metadata": {
        "colab": {
          "base_uri": "https://localhost:8080/"
        },
        "id": "1sIvJd4AIr8Z",
        "outputId": "d284a83a-f1c3-4fb1-b4c2-3a1e9cd3bb86"
      },
      "execution_count": null,
      "outputs": [
        {
          "output_type": "stream",
          "name": "stdout",
          "text": [
            "[1] 10000\n"
          ]
        }
      ]
    },
    {
      "cell_type": "code",
      "source": [
        "print(\"Miscellaneous Operators\")"
      ],
      "metadata": {
        "colab": {
          "base_uri": "https://localhost:8080/"
        },
        "id": "lwlDkpDbKWLJ",
        "outputId": "3097bab5-8d0f-40eb-8c56-82b17093a6fd"
      },
      "execution_count": null,
      "outputs": [
        {
          "output_type": "stream",
          "name": "stdout",
          "text": [
            "[1] \"Miscellaneous Operators\"\n"
          ]
        }
      ]
    },
    {
      "cell_type": "code",
      "source": [
        "print(\"1.Sequence operators\")"
      ],
      "metadata": {
        "colab": {
          "base_uri": "https://localhost:8080/"
        },
        "id": "VwGELJz3KoXG",
        "outputId": "5581d7bd-b39e-4390-c509-28afc058198f"
      },
      "execution_count": null,
      "outputs": [
        {
          "output_type": "stream",
          "name": "stdout",
          "text": [
            "[1] \"1.Sequence operators\"\n"
          ]
        }
      ]
    },
    {
      "cell_type": "code",
      "source": [
        "seq(1:5)"
      ],
      "metadata": {
        "colab": {
          "base_uri": "https://localhost:8080/",
          "height": 34
        },
        "id": "iEuEdU2mKy15",
        "outputId": "924ce958-6495-4537-d595-9972958c5120"
      },
      "execution_count": null,
      "outputs": [
        {
          "output_type": "display_data",
          "data": {
            "text/html": [
              "<style>\n",
              ".list-inline {list-style: none; margin:0; padding: 0}\n",
              ".list-inline>li {display: inline-block}\n",
              ".list-inline>li:not(:last-child)::after {content: \"\\00b7\"; padding: 0 .5ex}\n",
              "</style>\n",
              "<ol class=list-inline><li>1</li><li>2</li><li>3</li><li>4</li><li>5</li></ol>\n"
            ],
            "text/markdown": "1. 1\n2. 2\n3. 3\n4. 4\n5. 5\n\n\n",
            "text/latex": "\\begin{enumerate*}\n\\item 1\n\\item 2\n\\item 3\n\\item 4\n\\item 5\n\\end{enumerate*}\n",
            "text/plain": [
              "[1] 1 2 3 4 5"
            ]
          },
          "metadata": {}
        }
      ]
    },
    {
      "cell_type": "code",
      "source": [
        "a <- 2       # first term\n",
        "d <- 3       # common difference\n",
        "n <- 5       # number of terms\n",
        "\n",
        "seq(from = a, by = d, length.out = n)\n",
        "\n"
      ],
      "metadata": {
        "colab": {
          "base_uri": "https://localhost:8080/",
          "height": 34
        },
        "id": "1eaGjaLqLsac",
        "outputId": "aad0ccea-4ac7-406d-d4bd-af888973bd8b"
      },
      "execution_count": null,
      "outputs": [
        {
          "output_type": "display_data",
          "data": {
            "text/html": [
              "<style>\n",
              ".list-inline {list-style: none; margin:0; padding: 0}\n",
              ".list-inline>li {display: inline-block}\n",
              ".list-inline>li:not(:last-child)::after {content: \"\\00b7\"; padding: 0 .5ex}\n",
              "</style>\n",
              "<ol class=list-inline><li>2</li><li>5</li><li>8</li><li>11</li><li>14</li></ol>\n"
            ],
            "text/markdown": "1. 2\n2. 5\n3. 8\n4. 11\n5. 14\n\n\n",
            "text/latex": "\\begin{enumerate*}\n\\item 2\n\\item 5\n\\item 8\n\\item 11\n\\item 14\n\\end{enumerate*}\n",
            "text/plain": [
              "[1]  2  5  8 11 14"
            ]
          },
          "metadata": {}
        }
      ]
    },
    {
      "cell_type": "code",
      "source": [
        "seq(1, 10, by = 2)\n",
        "# Output: 1 3 5 7 9\n"
      ],
      "metadata": {
        "colab": {
          "base_uri": "https://localhost:8080/",
          "height": 34
        },
        "id": "0ccR4Qu2L2g4",
        "outputId": "ed01e633-f5ad-41d5-e3a8-2dc36b25b072"
      },
      "execution_count": null,
      "outputs": [
        {
          "output_type": "display_data",
          "data": {
            "text/html": [
              "<style>\n",
              ".list-inline {list-style: none; margin:0; padding: 0}\n",
              ".list-inline>li {display: inline-block}\n",
              ".list-inline>li:not(:last-child)::after {content: \"\\00b7\"; padding: 0 .5ex}\n",
              "</style>\n",
              "<ol class=list-inline><li>1</li><li>3</li><li>5</li><li>7</li><li>9</li></ol>\n"
            ],
            "text/markdown": "1. 1\n2. 3\n3. 5\n4. 7\n5. 9\n\n\n",
            "text/latex": "\\begin{enumerate*}\n\\item 1\n\\item 3\n\\item 5\n\\item 7\n\\item 9\n\\end{enumerate*}\n",
            "text/plain": [
              "[1] 1 3 5 7 9"
            ]
          },
          "metadata": {}
        }
      ]
    },
    {
      "cell_type": "code",
      "source": [
        "seq(1, 10, by = 1)\n",
        "# Output: 1 2 3 4 5 6 7 8  9 10\n"
      ],
      "metadata": {
        "colab": {
          "base_uri": "https://localhost:8080/",
          "height": 34
        },
        "id": "Kkuwgx6hMVoT",
        "outputId": "eb088d99-de1e-4d08-b060-03b33f018499"
      },
      "execution_count": null,
      "outputs": [
        {
          "output_type": "display_data",
          "data": {
            "text/html": [
              "<style>\n",
              ".list-inline {list-style: none; margin:0; padding: 0}\n",
              ".list-inline>li {display: inline-block}\n",
              ".list-inline>li:not(:last-child)::after {content: \"\\00b7\"; padding: 0 .5ex}\n",
              "</style>\n",
              "<ol class=list-inline><li>1</li><li>2</li><li>3</li><li>4</li><li>5</li><li>6</li><li>7</li><li>8</li><li>9</li><li>10</li></ol>\n"
            ],
            "text/markdown": "1. 1\n2. 2\n3. 3\n4. 4\n5. 5\n6. 6\n7. 7\n8. 8\n9. 9\n10. 10\n\n\n",
            "text/latex": "\\begin{enumerate*}\n\\item 1\n\\item 2\n\\item 3\n\\item 4\n\\item 5\n\\item 6\n\\item 7\n\\item 8\n\\item 9\n\\item 10\n\\end{enumerate*}\n",
            "text/plain": [
              " [1]  1  2  3  4  5  6  7  8  9 10"
            ]
          },
          "metadata": {}
        }
      ]
    },
    {
      "cell_type": "code",
      "source": [
        "seq(10, 1, by = -1)\n",
        "# Output: 10  9 8 7 6 5 4 3 2 1\n"
      ],
      "metadata": {
        "colab": {
          "base_uri": "https://localhost:8080/",
          "height": 34
        },
        "id": "dMH1_sZrMp0_",
        "outputId": "595f890d-a0a8-4240-c94a-0b45c9f4a24a"
      },
      "execution_count": null,
      "outputs": [
        {
          "output_type": "display_data",
          "data": {
            "text/html": [
              "<style>\n",
              ".list-inline {list-style: none; margin:0; padding: 0}\n",
              ".list-inline>li {display: inline-block}\n",
              ".list-inline>li:not(:last-child)::after {content: \"\\00b7\"; padding: 0 .5ex}\n",
              "</style>\n",
              "<ol class=list-inline><li>10</li><li>9</li><li>8</li><li>7</li><li>6</li><li>5</li><li>4</li><li>3</li><li>2</li><li>1</li></ol>\n"
            ],
            "text/markdown": "1. 10\n2. 9\n3. 8\n4. 7\n5. 6\n6. 5\n7. 4\n8. 3\n9. 2\n10. 1\n\n\n",
            "text/latex": "\\begin{enumerate*}\n\\item 10\n\\item 9\n\\item 8\n\\item 7\n\\item 6\n\\item 5\n\\item 4\n\\item 3\n\\item 2\n\\item 1\n\\end{enumerate*}\n",
            "text/plain": [
              " [1] 10  9  8  7  6  5  4  3  2  1"
            ]
          },
          "metadata": {}
        }
      ]
    },
    {
      "cell_type": "code",
      "source": [
        "print(\"Matching operator\")\n",
        "3 %in% c(1,2,3)"
      ],
      "metadata": {
        "colab": {
          "base_uri": "https://localhost:8080/",
          "height": 52
        },
        "id": "IzNe5UKQM6-y",
        "outputId": "f36a0b0b-be26-426d-c3ca-3d46a029dbb3"
      },
      "execution_count": null,
      "outputs": [
        {
          "output_type": "stream",
          "name": "stdout",
          "text": [
            "[1] \"Matching operator\"\n"
          ]
        },
        {
          "output_type": "display_data",
          "data": {
            "text/html": [
              "TRUE"
            ],
            "text/markdown": "TRUE",
            "text/latex": "TRUE",
            "text/plain": [
              "[1] TRUE"
            ]
          },
          "metadata": {}
        }
      ]
    },
    {
      "cell_type": "code",
      "source": [
        "# The matching operator in R is %in%, and it's used to check if elements of one vector exist in another.\n",
        "x <- c(2, 4, 6)\n",
        "y <- c(1, 2, 3, 4, 5)\n",
        "\n",
        "x %in% y\n",
        "# Output: TRUE TRUE FALSE\n",
        "#Explanation: 2 and 4 are in y, 6 is not."
      ],
      "metadata": {
        "colab": {
          "base_uri": "https://localhost:8080/",
          "height": 34
        },
        "id": "v8YAscTaNbuM",
        "outputId": "6d7bb8b0-4f27-4f0c-e9b3-1bfdc24d576a"
      },
      "execution_count": null,
      "outputs": [
        {
          "output_type": "display_data",
          "data": {
            "text/html": [
              "<style>\n",
              ".list-inline {list-style: none; margin:0; padding: 0}\n",
              ".list-inline>li {display: inline-block}\n",
              ".list-inline>li:not(:last-child)::after {content: \"\\00b7\"; padding: 0 .5ex}\n",
              "</style>\n",
              "<ol class=list-inline><li>TRUE</li><li>TRUE</li><li>FALSE</li></ol>\n"
            ],
            "text/markdown": "1. TRUE\n2. TRUE\n3. FALSE\n\n\n",
            "text/latex": "\\begin{enumerate*}\n\\item TRUE\n\\item TRUE\n\\item FALSE\n\\end{enumerate*}\n",
            "text/plain": [
              "[1]  TRUE  TRUE FALSE"
            ]
          },
          "metadata": {}
        }
      ]
    },
    {
      "cell_type": "code",
      "source": [
        "states <- c(\"NY\", \"CA\", \"TX\", \"FL\")\n",
        "target <- c(\"TX\", \"FL\", \"WA\")\n",
        "\n",
        "states %in% target\n",
        "# Output: FALSE FALSE TRUE TRUE\n",
        "#Explanation: TX  and FL is  TRUE"
      ],
      "metadata": {
        "colab": {
          "base_uri": "https://localhost:8080/",
          "height": 34
        },
        "id": "VXENozKjNy1R",
        "outputId": "bb4171c1-f58c-46b9-9075-1c6120f47bff"
      },
      "execution_count": null,
      "outputs": [
        {
          "output_type": "display_data",
          "data": {
            "text/html": [
              "<style>\n",
              ".list-inline {list-style: none; margin:0; padding: 0}\n",
              ".list-inline>li {display: inline-block}\n",
              ".list-inline>li:not(:last-child)::after {content: \"\\00b7\"; padding: 0 .5ex}\n",
              "</style>\n",
              "<ol class=list-inline><li>FALSE</li><li>FALSE</li><li>TRUE</li><li>TRUE</li></ol>\n"
            ],
            "text/markdown": "1. FALSE\n2. FALSE\n3. TRUE\n4. TRUE\n\n\n",
            "text/latex": "\\begin{enumerate*}\n\\item FALSE\n\\item FALSE\n\\item TRUE\n\\item TRUE\n\\end{enumerate*}\n",
            "text/plain": [
              "[1] FALSE FALSE  TRUE  TRUE"
            ]
          },
          "metadata": {}
        }
      ]
    },
    {
      "cell_type": "code",
      "source": [
        "fruits <- c(\"apple\", \"banana\", \"cherry\", \"date\")\n",
        "selected <- c(\"banana\", \"date\")\n",
        "\n",
        "fruits[fruits %in% selected]\n",
        "# Output: \"banana\" \"date\"\n",
        "#Explanation: Keeps only elements in fruits that are also in selected."
      ],
      "metadata": {
        "colab": {
          "base_uri": "https://localhost:8080/",
          "height": 34
        },
        "id": "GXvFFBTkOXgS",
        "outputId": "69c05217-571e-4cad-e774-ef545042598c"
      },
      "execution_count": null,
      "outputs": [
        {
          "output_type": "display_data",
          "data": {
            "text/html": [
              "<style>\n",
              ".list-inline {list-style: none; margin:0; padding: 0}\n",
              ".list-inline>li {display: inline-block}\n",
              ".list-inline>li:not(:last-child)::after {content: \"\\00b7\"; padding: 0 .5ex}\n",
              "</style>\n",
              "<ol class=list-inline><li>'banana'</li><li>'date'</li></ol>\n"
            ],
            "text/markdown": "1. 'banana'\n2. 'date'\n\n\n",
            "text/latex": "\\begin{enumerate*}\n\\item 'banana'\n\\item 'date'\n\\end{enumerate*}\n",
            "text/plain": [
              "[1] \"banana\" \"date\"  "
            ]
          },
          "metadata": {}
        }
      ]
    },
    {
      "cell_type": "code",
      "source": [
        "fruits[!fruits %in% selected]\n",
        "# Output: \"apple\" \"cherry\"\n",
        "#Explanation: Removes items that are in selected.\n"
      ],
      "metadata": {
        "colab": {
          "base_uri": "https://localhost:8080/",
          "height": 34
        },
        "id": "r8pYXckUOriP",
        "outputId": "c9e82be3-38ab-41d0-cb3d-6f312eb77730"
      },
      "execution_count": null,
      "outputs": [
        {
          "output_type": "display_data",
          "data": {
            "text/html": [
              "<style>\n",
              ".list-inline {list-style: none; margin:0; padding: 0}\n",
              ".list-inline>li {display: inline-block}\n",
              ".list-inline>li:not(:last-child)::after {content: \"\\00b7\"; padding: 0 .5ex}\n",
              "</style>\n",
              "<ol class=list-inline><li>'apple'</li><li>'cherry'</li></ol>\n"
            ],
            "text/markdown": "1. 'apple'\n2. 'cherry'\n\n\n",
            "text/latex": "\\begin{enumerate*}\n\\item 'apple'\n\\item 'cherry'\n\\end{enumerate*}\n",
            "text/plain": [
              "[1] \"apple\"  \"cherry\""
            ]
          },
          "metadata": {}
        }
      ]
    },
    {
      "cell_type": "code",
      "source": [
        "print(\"MATRIX MULTIPLICATION\")"
      ],
      "metadata": {
        "colab": {
          "base_uri": "https://localhost:8080/"
        },
        "id": "9OXA3DODQAPk",
        "outputId": "c6083e34-0e94-473e-a8ee-c097d736ae27"
      },
      "execution_count": null,
      "outputs": [
        {
          "output_type": "stream",
          "name": "stdout",
          "text": [
            "[1] \"MATRIX MULTIPLICATION\"\n"
          ]
        }
      ]
    },
    {
      "cell_type": "code",
      "source": [
        "# 2 rows, 3 columns\n",
        "A <- matrix(c(1, 2, 3, 4, 5, 6), nrow = 2, byrow = TRUE)\n",
        "\n",
        "# 3 rows, 2 columns\n",
        "B <- matrix(c(7, 8, 9, 10, 11, 12), nrow = 3, byrow = TRUE)\n",
        "\n",
        "# Matrix multiplication\n",
        "C <- A %*% B\n",
        "\n",
        "print(C)\n"
      ],
      "metadata": {
        "colab": {
          "base_uri": "https://localhost:8080/"
        },
        "id": "uma2VEldQQ2I",
        "outputId": "92da4922-88ac-491f-bf75-511e8dc1c825"
      },
      "execution_count": null,
      "outputs": [
        {
          "output_type": "stream",
          "name": "stdout",
          "text": [
            "     [,1] [,2]\n",
            "[1,]   58   64\n",
            "[2,]  139  154\n"
          ]
        }
      ]
    },
    {
      "cell_type": "code",
      "source": [
        "# Define two matrices\n",
        "A <- matrix(c(1, 2, 3, 4), nrow = 2)   # 2x2 matrix\n",
        "B <- matrix(c(5, 6, 7, 8), nrow = 2)   # 2x2 matrix\n",
        "\n",
        "# Multiply A and B\n",
        "C <- A %*% B\n",
        "\n",
        "print(C)\n"
      ],
      "metadata": {
        "colab": {
          "base_uri": "https://localhost:8080/"
        },
        "id": "RUIR3XyCQefh",
        "outputId": "5f89e990-8b7e-426a-bc78-ddc2b76ecf69"
      },
      "execution_count": null,
      "outputs": [
        {
          "output_type": "stream",
          "name": "stdout",
          "text": [
            "     [,1] [,2]\n",
            "[1,]   23   31\n",
            "[2,]   34   46\n"
          ]
        }
      ]
    },
    {
      "cell_type": "code",
      "source": [
        "print(\"RELATIONAL OR COMPARISON OPERATORS\")"
      ],
      "metadata": {
        "colab": {
          "base_uri": "https://localhost:8080/"
        },
        "id": "Q2bXKNzQQ0IX",
        "outputId": "906a2a9a-a805-44c8-a43d-7693605dbb71"
      },
      "execution_count": null,
      "outputs": [
        {
          "output_type": "stream",
          "name": "stdout",
          "text": [
            "[1] \"RELATIONAL OR COMPARISON OPERATORS\"\n"
          ]
        }
      ]
    },
    {
      "cell_type": "code",
      "source": [
        "print(\t5 == 5 )\n",
        "#output: \t5 == 5 → TRUE\n"
      ],
      "metadata": {
        "colab": {
          "base_uri": "https://localhost:8080/"
        },
        "id": "GkYUezx2RAue",
        "outputId": "d10bd459-55be-45d6-8cb7-a301835e6ddb"
      },
      "execution_count": null,
      "outputs": [
        {
          "output_type": "stream",
          "name": "stdout",
          "text": [
            "[1] TRUE\n"
          ]
        }
      ]
    },
    {
      "cell_type": "code",
      "source": [
        "print(5!=4)\n",
        "#output: \t5  not equal to 4 → TRUE"
      ],
      "metadata": {
        "colab": {
          "base_uri": "https://localhost:8080/"
        },
        "id": "PYVnTS5DRVV5",
        "outputId": "f53b6586-fda7-48e4-c053-8fb87b07956f"
      },
      "execution_count": null,
      "outputs": [
        {
          "output_type": "stream",
          "name": "stdout",
          "text": [
            "[1] TRUE\n"
          ]
        }
      ]
    },
    {
      "cell_type": "code",
      "source": [
        "print(5!=5)\n",
        "#output: \t5  not equal to 5→ FALSE"
      ],
      "metadata": {
        "colab": {
          "base_uri": "https://localhost:8080/"
        },
        "id": "I8-cZKlrRogD",
        "outputId": "98bd9120-6b9c-4474-8785-b7ab79b92a61"
      },
      "execution_count": null,
      "outputs": [
        {
          "output_type": "stream",
          "name": "stdout",
          "text": [
            "[1] FALSE\n"
          ]
        }
      ]
    },
    {
      "cell_type": "code",
      "source": [
        "print(5>4)"
      ],
      "metadata": {
        "colab": {
          "base_uri": "https://localhost:8080/"
        },
        "id": "J-E5BxfaR3eI",
        "outputId": "e8e6bbc6-68e5-4368-e7fd-888eda5f77c4"
      },
      "execution_count": null,
      "outputs": [
        {
          "output_type": "stream",
          "name": "stdout",
          "text": [
            "[1] TRUE\n"
          ]
        }
      ]
    },
    {
      "cell_type": "code",
      "source": [
        "print(5>6)"
      ],
      "metadata": {
        "colab": {
          "base_uri": "https://localhost:8080/"
        },
        "id": "rKRabEPhR-KR",
        "outputId": "add94d02-3b9b-4c55-ef9e-28a4d3ef1e02"
      },
      "execution_count": null,
      "outputs": [
        {
          "output_type": "stream",
          "name": "stdout",
          "text": [
            "[1] FALSE\n"
          ]
        }
      ]
    },
    {
      "cell_type": "code",
      "source": [
        "print(5.5<=5.0)"
      ],
      "metadata": {
        "colab": {
          "base_uri": "https://localhost:8080/"
        },
        "id": "UciUgsl-SLhj",
        "outputId": "f9a1ba28-e8bc-44f3-be1b-0a530556725e"
      },
      "execution_count": null,
      "outputs": [
        {
          "output_type": "stream",
          "name": "stdout",
          "text": [
            "[1] FALSE\n"
          ]
        }
      ]
    },
    {
      "cell_type": "code",
      "source": [
        "print(5.5>=5.0)"
      ],
      "metadata": {
        "colab": {
          "base_uri": "https://localhost:8080/"
        },
        "id": "2DxFfbzsSD2B",
        "outputId": "3a4ae75c-02d2-4426-88e0-a5f5d9b7be97"
      },
      "execution_count": null,
      "outputs": [
        {
          "output_type": "stream",
          "name": "stdout",
          "text": [
            "[1] TRUE\n"
          ]
        }
      ]
    },
    {
      "cell_type": "code",
      "source": [
        "print(\"repeat function\")"
      ],
      "metadata": {
        "colab": {
          "base_uri": "https://localhost:8080/"
        },
        "id": "JR3P2kDYS3Uh",
        "outputId": "01cda90b-49eb-4707-c45e-2dd8d5d50b80"
      },
      "execution_count": null,
      "outputs": [
        {
          "output_type": "stream",
          "name": "stdout",
          "text": [
            "[1] \"repeat function\"\n"
          ]
        }
      ]
    },
    {
      "cell_type": "code",
      "source": [
        "rep(5, times = 3)\n",
        "# Output: 5 5 5\n",
        "#Method: rep(x, times, each, length.out)\n"
      ],
      "metadata": {
        "colab": {
          "base_uri": "https://localhost:8080/",
          "height": 34
        },
        "id": "8erM4w0jS-Y8",
        "outputId": "a3168aca-e1f1-4031-b31e-5061330f021f"
      },
      "execution_count": null,
      "outputs": [
        {
          "output_type": "display_data",
          "data": {
            "text/html": [
              "<style>\n",
              ".list-inline {list-style: none; margin:0; padding: 0}\n",
              ".list-inline>li {display: inline-block}\n",
              ".list-inline>li:not(:last-child)::after {content: \"\\00b7\"; padding: 0 .5ex}\n",
              "</style>\n",
              "<ol class=list-inline><li>5</li><li>5</li><li>5</li></ol>\n"
            ],
            "text/markdown": "1. 5\n2. 5\n3. 5\n\n\n",
            "text/latex": "\\begin{enumerate*}\n\\item 5\n\\item 5\n\\item 5\n\\end{enumerate*}\n",
            "text/plain": [
              "[1] 5 5 5"
            ]
          },
          "metadata": {}
        }
      ]
    },
    {
      "cell_type": "code",
      "source": [
        "#Method: rep(x, times, each, length.out)\n",
        "\n",
        "#x: the value(s) to repeat\n",
        "\n",
        "#times: how many times to repeat the full object\n",
        "\n",
        "#each: how many times to repeat each element\n",
        "\n",
        "# length.out: total length of the result *"
      ],
      "metadata": {
        "id": "W2XPXFG1TRkt"
      },
      "execution_count": null,
      "outputs": []
    },
    {
      "cell_type": "code",
      "source": [
        "rep(c(1, 2), times = 3)\n",
        "# Output: 1 2 1 2 1 2\n",
        "#repeat vector"
      ],
      "metadata": {
        "colab": {
          "base_uri": "https://localhost:8080/",
          "height": 34
        },
        "id": "UAKVC03OTwTZ",
        "outputId": "a137da03-8410-4432-c4b4-6b45b72b61b1"
      },
      "execution_count": null,
      "outputs": [
        {
          "output_type": "display_data",
          "data": {
            "text/html": [
              "<style>\n",
              ".list-inline {list-style: none; margin:0; padding: 0}\n",
              ".list-inline>li {display: inline-block}\n",
              ".list-inline>li:not(:last-child)::after {content: \"\\00b7\"; padding: 0 .5ex}\n",
              "</style>\n",
              "<ol class=list-inline><li>1</li><li>2</li><li>1</li><li>2</li><li>1</li><li>2</li></ol>\n"
            ],
            "text/markdown": "1. 1\n2. 2\n3. 1\n4. 2\n5. 1\n6. 2\n\n\n",
            "text/latex": "\\begin{enumerate*}\n\\item 1\n\\item 2\n\\item 1\n\\item 2\n\\item 1\n\\item 2\n\\end{enumerate*}\n",
            "text/plain": [
              "[1] 1 2 1 2 1 2"
            ]
          },
          "metadata": {}
        }
      ]
    },
    {
      "cell_type": "code",
      "source": [
        "rep(c(1, 2), each = 3)\n",
        "# Output: 1 1 1 2 2 2\n",
        "# repeat each element"
      ],
      "metadata": {
        "colab": {
          "base_uri": "https://localhost:8080/",
          "height": 34
        },
        "id": "CnW0qWQcT75l",
        "outputId": "b2dce019-6d8c-4634-aafb-650f58015caa"
      },
      "execution_count": null,
      "outputs": [
        {
          "output_type": "display_data",
          "data": {
            "text/html": [
              "<style>\n",
              ".list-inline {list-style: none; margin:0; padding: 0}\n",
              ".list-inline>li {display: inline-block}\n",
              ".list-inline>li:not(:last-child)::after {content: \"\\00b7\"; padding: 0 .5ex}\n",
              "</style>\n",
              "<ol class=list-inline><li>1</li><li>1</li><li>1</li><li>2</li><li>2</li><li>2</li></ol>\n"
            ],
            "text/markdown": "1. 1\n2. 1\n3. 1\n4. 2\n5. 2\n6. 2\n\n\n",
            "text/latex": "\\begin{enumerate*}\n\\item 1\n\\item 1\n\\item 1\n\\item 2\n\\item 2\n\\item 2\n\\end{enumerate*}\n",
            "text/plain": [
              "[1] 1 1 1 2 2 2"
            ]
          },
          "metadata": {}
        }
      ]
    },
    {
      "cell_type": "code",
      "source": [
        "rep(c(\"a\", \"b\", \"c\"), times = c(2, 1, 3))\n",
        "# Output: \"a\" \"a\" \"b\" \"c\" \"c\" \"c\"\n"
      ],
      "metadata": {
        "colab": {
          "base_uri": "https://localhost:8080/",
          "height": 34
        },
        "id": "4D9P6dOLUKj4",
        "outputId": "ee1a7b3d-9bd8-4e94-f4a5-93439a31fe4f"
      },
      "execution_count": null,
      "outputs": [
        {
          "output_type": "display_data",
          "data": {
            "text/html": [
              "<style>\n",
              ".list-inline {list-style: none; margin:0; padding: 0}\n",
              ".list-inline>li {display: inline-block}\n",
              ".list-inline>li:not(:last-child)::after {content: \"\\00b7\"; padding: 0 .5ex}\n",
              "</style>\n",
              "<ol class=list-inline><li>'a'</li><li>'a'</li><li>'b'</li><li>'c'</li><li>'c'</li><li>'c'</li></ol>\n"
            ],
            "text/markdown": "1. 'a'\n2. 'a'\n3. 'b'\n4. 'c'\n5. 'c'\n6. 'c'\n\n\n",
            "text/latex": "\\begin{enumerate*}\n\\item 'a'\n\\item 'a'\n\\item 'b'\n\\item 'c'\n\\item 'c'\n\\item 'c'\n\\end{enumerate*}\n",
            "text/plain": [
              "[1] \"a\" \"a\" \"b\" \"c\" \"c\" \"c\""
            ]
          },
          "metadata": {}
        }
      ]
    },
    {
      "cell_type": "markdown",
      "source": [
        "repeat with different elements for each"
      ],
      "metadata": {
        "id": "xhcW0qazUR0V"
      }
    },
    {
      "cell_type": "markdown",
      "source": [],
      "metadata": {
        "id": "L0Otvte8UJy4"
      }
    },
    {
      "cell_type": "code",
      "source": [
        "rep(1:3, length.out = 10)\n",
        "# Output: 1 2 3 1 2 3 1 2 3 1\n",
        "# Repeat to a fixed length"
      ],
      "metadata": {
        "colab": {
          "base_uri": "https://localhost:8080/",
          "height": 34
        },
        "id": "E8gKL_ZDUhX4",
        "outputId": "9e30324f-71f4-40de-99cf-0c5a343cd602"
      },
      "execution_count": null,
      "outputs": [
        {
          "output_type": "display_data",
          "data": {
            "text/html": [
              "<style>\n",
              ".list-inline {list-style: none; margin:0; padding: 0}\n",
              ".list-inline>li {display: inline-block}\n",
              ".list-inline>li:not(:last-child)::after {content: \"\\00b7\"; padding: 0 .5ex}\n",
              "</style>\n",
              "<ol class=list-inline><li>1</li><li>2</li><li>3</li><li>1</li><li>2</li><li>3</li><li>1</li><li>2</li><li>3</li><li>1</li></ol>\n"
            ],
            "text/markdown": "1. 1\n2. 2\n3. 3\n4. 1\n5. 2\n6. 3\n7. 1\n8. 2\n9. 3\n10. 1\n\n\n",
            "text/latex": "\\begin{enumerate*}\n\\item 1\n\\item 2\n\\item 3\n\\item 1\n\\item 2\n\\item 3\n\\item 1\n\\item 2\n\\item 3\n\\item 1\n\\end{enumerate*}\n",
            "text/plain": [
              " [1] 1 2 3 1 2 3 1 2 3 1"
            ]
          },
          "metadata": {}
        }
      ]
    }
  ]
}